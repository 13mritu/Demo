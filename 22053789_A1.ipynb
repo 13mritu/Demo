{
  "nbformat": 4,
  "nbformat_minor": 0,
  "metadata": {
    "colab": {
      "provenance": [],
      "authorship_tag": "ABX9TyMWYU6o50HWF9R3QIOIMwKu",
      "include_colab_link": true
    },
    "kernelspec": {
      "name": "python3",
      "display_name": "Python 3"
    },
    "language_info": {
      "name": "python"
    }
  },
  "cells": [
    {
      "cell_type": "markdown",
      "metadata": {
        "id": "view-in-github",
        "colab_type": "text"
      },
      "source": [
        "<a href=\"https://colab.research.google.com/github/13mritu/Demo/blob/main/22053789_A1.ipynb\" target=\"_parent\"><img src=\"https://colab.research.google.com/assets/colab-badge.svg\" alt=\"Open In Colab\"/></a>"
      ]
    },
    {
      "cell_type": "code",
      "execution_count": 2,
      "metadata": {
        "colab": {
          "base_uri": "https://localhost:8080/"
        },
        "id": "gi43CVgNJG8-",
        "outputId": "af00eb46-c624-410b-b150-4de2c5be93c1"
      },
      "outputs": [
        {
          "output_type": "stream",
          "name": "stdout",
          "text": [
            "Enter 10 elements for the array:\n",
            "Enter element 1: 23\n",
            "Enter element 2: 45\n",
            "Enter element 3: 1\n",
            "Enter element 4: 2\n",
            "Enter element 5: 5\n",
            "Enter element 6: 98\n",
            "Enter element 7: 56\n",
            "Enter element 8: 32\n",
            "Enter element 9: 78\n",
            "Enter element 10: 17\n",
            "\n",
            "Original array: [23, 45, 1, 2, 5, 98, 56, 32, 78, 17]\n",
            "\n",
            "Sorted array: [1, 2, 5, 17, 23, 32, 45, 56, 78, 98]\n"
          ]
        }
      ],
      "source": [
        "def main():\n",
        "\n",
        "    array = []\n",
        "    print(\"Enter 10 elements for the array:\")\n",
        "    for i in range(10):\n",
        "        element = int(input(f\"Enter element {i + 1}: \"))\n",
        "        array.append(element)\n",
        "\n",
        "\n",
        "    print(\"\\nOriginal array:\", array)\n",
        "\n",
        "    array.sort()\n",
        "\n",
        "\n",
        "    print(\"\\nSorted array:\", array)\n",
        "\n",
        "    if __name__ == \"__main__\":\n",
        "    main()"
      ]
    }
  ]
}